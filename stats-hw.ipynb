{
 "cells": [
  {
   "cell_type": "code",
   "execution_count": 2,
   "metadata": {
    "collapsed": false
   },
   "outputs": [],
   "source": [
    "# https://classroom.udacity.com/courses/st101/lessons/48687890/concepts/486878890923\n",
    "from math import *\n",
    "import matplotlib.pyplot as plt"
   ]
  },
  {
   "cell_type": "code",
   "execution_count": 29,
   "metadata": {
    "collapsed": false
   },
   "outputs": [
    {
     "name": "stdout",
     "output_type": "stream",
     "text": [
      "1.0\n",
      "i, p_dist, s\n",
      "0 0.10737418240000006 1.0\n",
      "1 0.10737418240000006 1.0\n",
      "2 0.10737418240000006 1.0\n",
      "3 0.10737418240000006 1.0\n",
      "4 0.10737418240000006 1.0\n",
      "5 0.10737418240000006 1.0\n",
      "6 0.10737418240000006 1.0\n",
      "7 0.10737418240000006 1.0\n",
      "8 0.10737418240000006 1.0\n",
      "9 0.10737418240000006 1.0\n",
      "10 0.10737418240000006 1.0\n"
     ]
    },
    {
     "data": {
      "image/png": "[encoded data removed]",
      "text/plain": [
       "<matplotlib.figure.Figure at 0x19db4672c88>"
      ]
     },
     "metadata": {},
     "output_type": "display_data"
    }
   ],
   "source": [
    "N = 10\n",
    "p0 = 0.8\n",
    "\n",
    "p_dist = [factorial(N)/(factorial(N-k)*factorial(k))*p0**k*(1-p0)**(N-k) for k in range(N+1)]\n",
    "# print(p_dist)\n",
    "s = [sum(p_dist[:i+1]) for i in range(len(p_dist))]\n",
    "print(sum(p_dist))\n",
    "print(\"i, p_dist, s\")\n",
    "for k in range(N+1):\n",
    "    print(k, p_dist[i], s[i])\n",
    "    \n",
    "\n",
    "\n",
    "\n",
    "bar_width = 1\n",
    "opacity = 0.8\n",
    "rects1 = plt.bar(range(N+1), p_dist, bar_width,\n",
    "                 alpha=opacity,\n",
    "                 color='b',)\n",
    "plt.show()"
   ]
  },
  {
   "cell_type": "code",
   "execution_count": 44,
   "metadata": {
    "collapsed": false
   },
   "outputs": [
    {
     "name": "stdout",
     "output_type": "stream",
     "text": [
      "[21, 21, 21, 21, 24, 24, 24, 24, 24, 24, 26, 26, 26, 26, 26, 26, 26, 29, 29, 29, 29, 29, 29, 29, 29, 29, 29, 29, 40, 40]\n",
      "26.966666666666665\n",
      "19.56555555555556\n",
      "1.5828564708802273\n"
     ]
    }
   ],
   "source": [
    "count = [4,6,7,11,2]\n",
    "age = [21,24,26,29,40]\n",
    "data = []\n",
    "for i in range(len(age)):\n",
    "    for k in range(count[i]):\n",
    "        data.append(age[i])\n",
    "print(data)\n",
    "\n",
    "mean = float(sum(data)/len(data))\n",
    "stddev = 1/len(data)*sum([(data[i]-mean)**2 for i in range(len(data))])\n",
    "print(mean)\n",
    "print(stddev)\n",
    "\n",
    "# CI table value\n",
    "a = 1.96\n",
    "CI = a*sqrt(stddev/len(data))\n",
    "print(CI)"
   ]
  },
  {
   "cell_type": "code",
   "execution_count": 47,
   "metadata": {
    "collapsed": false
   },
   "outputs": [
    {
     "name": "stdout",
     "output_type": "stream",
     "text": [
      "5.5 +/- 1.780258408209325\n"
     ]
    }
   ],
   "source": [
    "from math import sqrt\n",
    "\n",
    "def mean(l):\n",
    "    return float(sum(l))/len(l)\n",
    "\n",
    "def var(l):\n",
    "    m = mean(l)\n",
    "    return sum([(x-m)**2 for x in l])/len(l)\n",
    "\n",
    "def factor(l):\n",
    "    return 1.96 \n",
    "\n",
    "\n",
    "def conf(l):\n",
    "    return factor(l)*sqrt(var(l)/len(l))\n",
    "\n",
    "l = [1,2,3,4,5,6,7,8,9,10]\n",
    "print(mean(l), \"+/-\", conf(l))"
   ]
  },
  {
   "cell_type": "code",
   "execution_count": 65,
   "metadata": {
    "collapsed": false
   },
   "outputs": [
    {
     "name": "stdout",
     "output_type": "stream",
     "text": [
      "0.5 +/- 0.3099032106965012\n",
      "True\n",
      "0.8 +/- 0.2479225685572009\n",
      "False\n",
      "0.476 +/- 0.030954599632364615\n",
      "True\n",
      "0.55 +/- 0.09750876883644868\n",
      "True\n"
     ]
    }
   ],
   "source": [
    "# Programming Tests: Hypothesis Test\n",
    "\n",
    "#Complete the test function to perform a hypothesis test \n",
    "#on list l under the null that the mean is h\n",
    "\n",
    "from math import sqrt\n",
    "import random\n",
    "\n",
    "def mean(l):\n",
    "    return float(sum(l))/len(l)\n",
    "\n",
    "def var(l):\n",
    "    m = mean(l)\n",
    "    return sum([(x-m)**2 for x in l])/len(l)\n",
    "\n",
    "def factor(l):\n",
    "    return 1.96\n",
    "\n",
    "\n",
    "def conf(l):\n",
    "    return factor(l) * sqrt(var(l) / len(l))\n",
    "\n",
    "\n",
    "def test(l, h):\n",
    "    #Insert your code here\n",
    "    interval = conf(l)\n",
    "    mu = mean(l)\n",
    "    lower = mu - interval\n",
    "    upper = mu + interval\n",
    "    return h > lower and h < upper\n",
    "\n",
    "l = [0,0,0,0,0,1,1,1,1,1]\n",
    "print(mean(l), \"+/-\", conf(l))\n",
    "print(test(l, 0.5))\n",
    "\n",
    "l = [1,1,1,1,1,1,0,0,1,1]\n",
    "print(mean(l), \"+/-\", conf(l))\n",
    "print(test(l, 0.5))\n",
    "\n",
    "l = [random.random() > 0.499 for i in range(1000)]\n",
    "print(mean(l), \"+/-\", conf(l))\n",
    "print(test(l, 0.5))\n",
    "\n",
    "l = [1 for i in range(55)]+[0 for j in range(45)]\n",
    "print(mean(l), \"+/-\", conf(l))\n",
    "print(test(l, 0.5))"
   ]
  },
  {
   "cell_type": "code",
   "execution_count": 82,
   "metadata": {
    "collapsed": false
   },
   "outputs": [
    {
     "name": "stdout",
     "output_type": "stream",
     "text": [
      "9.750876883644874 %\n",
      "4.995525556991094 %\n"
     ]
    }
   ],
   "source": [
    "# Problem Set 5: Sample Size\n",
    "\n",
    "Votes_A = 55\n",
    "Votes_B = 45\n",
    "t = 1.96\n",
    "p = Votes_A/(Votes_A+Votes_B)\n",
    "CI = t*sqrt(p*(1-p)/(Votes_A+Votes_B))\n",
    "print(CI*100,\"%\")\n",
    "\n",
    "n = 381\n",
    "CI = t*sqrt(p*(1-p)/(n))\n",
    "print(CI*100,\"%\")\n"
   ]
  },
  {
   "cell_type": "code",
   "execution_count": 91,
   "metadata": {
    "collapsed": false
   },
   "outputs": [
    {
     "name": "stdout",
     "output_type": "stream",
     "text": [
      "0.09750876883644875\n",
      "384.1599999999999\n",
      "368.7935999999999\n"
     ]
    }
   ],
   "source": [
    "# Problem Set 5: Sensitivity\n",
    "\n",
    "p = 0.55\n",
    "t = 1.96\n",
    "n = 100\n",
    "e = t*sqrt(p*(1-p)/(n))\n",
    "print(e)\n",
    "e = 0.05 #desired confidence\n",
    "p = 0.5\n",
    "n = t**2/e**2*p*(1-p) #minimum number of people to poll\n",
    "print(n)\n",
    "p = 0.6\n",
    "n = t**2/e**2*p*(1-p)\n",
    "print(n)"
   ]
  },
  {
   "cell_type": "code",
   "execution_count": 93,
   "metadata": {
    "collapsed": false
   },
   "outputs": [
    {
     "name": "stdout",
     "output_type": "stream",
     "text": [
      "10 +/- 0.196\n",
      "20 +/- 0.392\n"
     ]
    }
   ],
   "source": [
    "# Problem Set 5: Weight Loss\n",
    "\n",
    "n = 10000\n",
    "mu_A = 10\n",
    "sigma_A = 10\n",
    "mu_B = 20\n",
    "sigma_B = 20\n",
    "\n",
    "t = 1.96\n",
    "CI_A = t*sigma_A/sqrt(n)\n",
    "CI_B = t*sigma_B/sqrt(n)\n",
    "print(mu_A,\"+/-\",CI_A)\n",
    "print(mu_B,\"+/-\",CI_B)"
   ]
  },
  {
   "cell_type": "code",
   "execution_count": 99,
   "metadata": {
    "collapsed": false
   },
   "outputs": [
    {
     "name": "stdout",
     "output_type": "stream",
     "text": [
      "9.99999999999994e-05 +/- 6.197444407508593e-08\n"
     ]
    }
   ],
   "source": [
    "# Problem Set 5: Large Sample Test\n",
    "n = 10e6\n",
    "mu = 0.0101-0.01\n",
    "sigma = mu*(1-mu)\n",
    "\n",
    "\n",
    "t = 1.96\n",
    "CI = t*sigma/sqrt(n)\n",
    "print(mu,\"+/-\",CI)"
   ]
  },
  {
   "cell_type": "code",
   "execution_count": 247,
   "metadata": {
    "collapsed": false
   },
   "outputs": [
    {
     "name": "stdout",
     "output_type": "stream",
     "text": [
      "x_bar = 4.0\n",
      "y_bar = 16.0\n",
      "covariance = 36.0\n",
      "N * Var(x) = 8.0\n",
      "N * Var(y) = 168.0\n",
      "y= 4.5 x + -2.0\n",
      "r= 0.9819805060619657\n"
     ]
    }
   ],
   "source": [
    "# Linear Regression\n",
    "# Correlation\n",
    "\n",
    "def linest(x, y, verbose = False):\n",
    "    # means\n",
    "    x_bar = float(sum(x))/len(x)\n",
    "    y_bar = float(sum(y))/len(y)\n",
    "    \n",
    "    # covariance\n",
    "    covar = sum([(xi-x_bar)*(yi-y_bar) for xi,yi in zip(x,y)])\n",
    "    \n",
    "    # variance * N\n",
    "    xNvar = sum([(xi-x_bar)**2 for xi in x])\n",
    "    yNvar = sum([(yi-y_bar)**2 for yi in y])\n",
    "    \n",
    "    # fit values\n",
    "    b =  covar / xNvar\n",
    "    a = y_bar-b*x_bar\n",
    "    \n",
    "    # correlation\n",
    "    r = covar/sqrt(xNvar*yNvar)\n",
    "    \n",
    "    if verbose:\n",
    "        print(\"x_bar =\", x_bar)\n",
    "        print(\"y_bar =\", y_bar)\n",
    "        print(\"covariance =\",covar)\n",
    "        print(\"N * Var(x) =\",xNvar)\n",
    "        print(\"N * Var(y) =\",yNvar)\n",
    "    return(b,a,r)\n",
    "\n",
    "data_x = [2,4,6]\n",
    "data_y = [8,14,26]\n",
    "\n",
    "b,a,r = linest(data_x, data_y, True)\n",
    "print(\"y=\", b, \"x +\",a)\n",
    "print(\"r=\", r)"
   ]
  },
  {
   "cell_type": "code",
   "execution_count": 243,
   "metadata": {
    "collapsed": false
   },
   "outputs": [
    {
     "name": "stdout",
     "output_type": "stream",
     "text": [
      "0.671\n"
     ]
    }
   ],
   "source": [
    "# Monty Hall Problem\n",
    "from random import randint\n",
    "\n",
    "def naive_simulate(N):\n",
    "    K = 0\n",
    "    ###insert your code here###\n",
    "    doors = [0,1,2]\n",
    "    for i in range(N):\n",
    "        prize = randint(0,2)\n",
    "        guess = randint(0,2)\n",
    "        K += prize == guess\n",
    "        \n",
    "    return (float(K) / float(N))\n",
    "\n",
    "def simulate(N):\n",
    "    K = 0\n",
    "    ###insert your code here###\n",
    "    doors = [0,1,2]\n",
    "    for i in range(N):\n",
    "        prize = randint(0,2)\n",
    "        guess = randint(0,2)\n",
    "        no_prize = [door for door in doors if door!=prize and door!=guess]\n",
    "        show = no_prize[randint(0,len(no_prize)-1)]\n",
    "        guess = [door for door in doors if door!=show and door!=guess][0]\n",
    "        K += prize == guess\n",
    "        \n",
    "    return (float(K) / float(N))\n",
    "\n",
    "N = 1000\n",
    "\n",
    "print (simulate(N))"
   ]
  },
  {
   "cell_type": "code",
   "execution_count": 4,
   "metadata": {
    "collapsed": false
   },
   "outputs": [
    {
     "name": "stdout",
     "output_type": "stream",
     "text": [
      "-0.00074 +/- 9.956562452355494e-05\n",
      "-0.000839565624523555 to -0.000640434375476445\n"
     ]
    }
   ],
   "source": [
    "# Flash Crash\n",
    "n = 69999\n",
    "mu = -0.00074\n",
    "sigma = 0.01344\n",
    "\n",
    "\n",
    "t = 1.96\n",
    "CI = t*sigma/sqrt(n)\n",
    "print(mu,\"+/-\",CI)\n",
    "print(mu-CI, \"to\", mu+CI)"
   ]
  },
  {
   "cell_type": "code",
   "execution_count": 8,
   "metadata": {
    "collapsed": false
   },
   "outputs": [
    {
     "name": "stdout",
     "output_type": "stream",
     "text": [
      "x_bar = 63.714285714285715\n",
      "y_bar = 1.2857142857142858\n",
      "covariance = 0.5714285714285721\n",
      "N * Var(x) = 399.42857142857144\n",
      "N * Var(y) = 1.4285714285714286\n",
      "y= 0.0014306151645207454 x + 1.1945636623748213\n",
      "r= 0.023921665197228614\n",
      "expected failures at 38  degrees is 1.2489270386266096\n"
     ]
    }
   ],
   "source": [
    "# Challenger\n",
    "\n",
    "def linest(x, y, verbose = False):\n",
    "    # means\n",
    "    x_bar = float(sum(x))/len(x)\n",
    "    y_bar = float(sum(y))/len(y)\n",
    "    \n",
    "    # covariance\n",
    "    covar = sum([(xi-x_bar)*(yi-y_bar) for xi,yi in zip(x,y)])\n",
    "    \n",
    "    # variance * N\n",
    "    xNvar = sum([(xi-x_bar)**2 for xi in x])\n",
    "    yNvar = sum([(yi-y_bar)**2 for yi in y])\n",
    "    \n",
    "    # fit values\n",
    "    b =  covar / xNvar\n",
    "    a = y_bar-b*x_bar\n",
    "    \n",
    "    # correlation\n",
    "    r = covar/sqrt(xNvar*yNvar)\n",
    "    \n",
    "    if verbose:\n",
    "        print(\"x_bar =\", x_bar)\n",
    "        print(\"y_bar =\", y_bar)\n",
    "        print(\"covariance =\",covar)\n",
    "        print(\"N * Var(x) =\",xNvar)\n",
    "        print(\"N * Var(y) =\",yNvar)\n",
    "    return(b,a,r)\n",
    "\n",
    "data_x = [70,57,63,70,53,75,58]\n",
    "data_y = [1,1,1,1,2,2,1]\n",
    "\n",
    "b,a,r = linest(data_x, data_y, True)\n",
    "print(\"y=\", b, \"x +\",a)\n",
    "print(\"r=\", r)\n",
    "\n",
    "x = 38\n",
    "print(\"expected failures at\", x, \"degrees is\", x*b+a)"
   ]
  },
  {
   "cell_type": "code",
   "execution_count": 10,
   "metadata": {
    "collapsed": false
   },
   "outputs": [
    {
     "name": "stdout",
     "output_type": "stream",
     "text": [
      "1.0000000000000004\n",
      "i, p_dist, s\n",
      "0 0.20971520000000007 0.20971520000000007\n",
      "1 0.36700160000000015 0.5767168000000003\n",
      "2 0.27525120000000014 0.8519680000000004\n",
      "3 0.11468800000000005 0.9666560000000004\n",
      "4 0.02867200000000001 0.9953280000000004\n",
      "5 0.004300800000000002 0.9996288000000004\n",
      "6 0.00035840000000000015 0.9999872000000004\n",
      "7 1.2800000000000005e-05 1.0000000000000004\n"
     ]
    },
    {
     "data": {
      "image/png": "[encoded data removed]",
      "text/plain": [
       "<matplotlib.figure.Figure at 0x1283082d5c0>"
      ]
     },
     "metadata": {},
     "output_type": "display_data"
    }
   ],
   "source": [
    "# Final, #9\n",
    "N = 7\n",
    "p0 = 0.2\n",
    "\n",
    "p_dist = [factorial(N)/(factorial(N-k)*factorial(k))*p0**k*(1-p0)**(N-k) for k in range(N+1)]\n",
    "# print(p_dist)\n",
    "s = [sum(p_dist[:i+1]) for i in range(len(p_dist))]\n",
    "print(sum(p_dist))\n",
    "print(\"i, p_dist, s\")\n",
    "for k in range(N+1):\n",
    "    print(k, p_dist[k], s[k])\n",
    "    \n",
    "\n",
    "\n",
    "\n",
    "bar_width = 1\n",
    "opacity = 0.8\n",
    "rects1 = plt.bar(range(N+1), p_dist, bar_width,\n",
    "                 alpha=opacity,\n",
    "                 color='b',)\n",
    "plt.show()"
   ]
  },
  {
   "cell_type": "code",
   "execution_count": 12,
   "metadata": {
    "collapsed": false
   },
   "outputs": [
    {
     "name": "stdout",
     "output_type": "stream",
     "text": [
      "0.719 +/- 0.029911680661574343\n",
      "0.6890883193384256 to 0.7489116806615743\n"
     ]
    }
   ],
   "source": [
    "#final, #14\n",
    "\n",
    "from math import sqrt\n",
    "\n",
    "def mean(l):\n",
    "    return float(sum(l))/len(l)\n",
    "\n",
    "def var(l):\n",
    "    m = mean(l)\n",
    "    return sum([(x-m)**2 for x in l])/len(l)\n",
    "\n",
    "def factor(l):\n",
    "    return 1.96 \n",
    "\n",
    "\n",
    "def conf(l):\n",
    "    return factor(l)*sqrt(var(l)/len(l))\n",
    "\n",
    "l = [0.79, 0.7, 0.73, 0.66, 0.65, 0.70, 0.74, 0.81, 0.71, 0.7]\n",
    "print(mean(l), \"+/-\", conf(l))\n",
    "print(mean(l)-conf(l), \"to\", mean(l)+conf(l))"
   ]
  },
  {
   "cell_type": "code",
   "execution_count": 16,
   "metadata": {
    "collapsed": false
   },
   "outputs": [
    {
     "name": "stdout",
     "output_type": "stream",
     "text": [
      "x_bar = 1.0\n",
      "y_bar = 1.3333333333333333\n",
      "covariance = 2.0\n",
      "N * Var(x) = 2.0\n",
      "N * Var(y) = 2.666666666666667\n",
      "Slope =  1.0\n",
      "Intercept =  0.33333333333333326\n",
      "\n",
      "y= 1.0 x + 0.33333333333333326\n",
      "r= 0.8660254037844385\n"
     ]
    }
   ],
   "source": [
    "# Final, 15\n",
    "\n",
    "def linest(x, y, verbose = False):\n",
    "    # means\n",
    "    x_bar = float(sum(x))/len(x)\n",
    "    y_bar = float(sum(y))/len(y)\n",
    "    \n",
    "    # covariance\n",
    "    covar = sum([(xi-x_bar)*(yi-y_bar) for xi,yi in zip(x,y)])\n",
    "    \n",
    "    # variance * N\n",
    "    xNvar = sum([(xi-x_bar)**2 for xi in x])\n",
    "    yNvar = sum([(yi-y_bar)**2 for yi in y])\n",
    "    \n",
    "    # fit values\n",
    "    b =  covar / xNvar\n",
    "    a = y_bar-b*x_bar\n",
    "    \n",
    "    # correlation\n",
    "    r = covar/sqrt(xNvar*yNvar)\n",
    "    \n",
    "    if verbose:\n",
    "        print(\"x_bar =\", x_bar)\n",
    "        print(\"y_bar =\", y_bar)\n",
    "        print(\"covariance =\",covar)\n",
    "        print(\"N * Var(x) =\",xNvar)\n",
    "        print(\"N * Var(y) =\",yNvar)\n",
    "        print(\"Slope = \", b)\n",
    "        print(\"Intercept = \", a)\n",
    "        print()\n",
    "    return(b,a,r)\n",
    "\n",
    "data_x = [0,1,2]\n",
    "data_y = [0,2,2]\n",
    "\n",
    "b,a,r = linest(data_x, data_y, True)\n",
    "print(\"y=\", b, \"x +\",a)\n",
    "print(\"r=\", r)"
   ]
  }
 ],
 "metadata": {
  "anaconda-cloud": {},
  "kernelspec": {
   "display_name": "Python [conda root]",
   "language": "python",
   "name": "conda-root-py"
  },
  "language_info": {
   "codemirror_mode": {
    "name": "ipython",
    "version": 3
   },
   "file_extension": ".py",
   "mimetype": "text/x-python",
   "name": "python",
   "nbconvert_exporter": "python",
   "pygments_lexer": "ipython3",
   "version": "3.5.2"
  }
 },
 "nbformat": 4,
 "nbformat_minor": 1
}
